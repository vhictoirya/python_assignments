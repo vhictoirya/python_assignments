{
 "cells": [
  {
   "cell_type": "markdown",
   "id": "87ede7d8",
   "metadata": {},
   "source": [
    "Python problems on Datastructure\n",
    "\n",
    " Problem 1: Cryptocurrency Token Data\n",
    "This data structure represents information about different cryptocurrency tokens listed on a decentralized exchange (DEX).\n",
    "\n",
    "```python\n",
    "crypto_tokens = [\n",
    "    {\n",
    "        \"name\": \"Token A\",\n",
    "        \"symbol\": \"TKA\",\n",
    "        \"blockchain\": \"Ethereum\",\n",
    "        \"current_price_usd\": 100.0,\n",
    "        \"transaction_history\": [\n",
    "            {\n",
    "                \"date\": \"2024-01-10\",\n",
    "                \"prices\": {\n",
    "                    \"open\": 98.0,\n",
    "                    \"close\": 100.0,\n",
    "                    \"high\": 101.0,\n",
    "                    \"low\": 97.0\n",
    "                },\n",
    "                \"volume\": 12000\n",
    "            },\n",
    "            {\n",
    "                \"date\": \"2024-01-09\",\n",
    "                \"prices\": {\n",
    "                    \"open\": 97.0,\n",
    "                    \"close\": 98.0,\n",
    "                    \"high\": 99.0,\n",
    "                    \"low\": 96.0\n",
    "                },\n",
    "                \"volume\": 15000\n",
    "            }\n",
    "        ],\n",
    "        \"supported_chains\": [\"Ethereum\", \"Polygon\"]\n",
    "    },\n",
    "    {\n",
    "        \"name\": \"Token B\",\n",
    "        \"symbol\": \"TKB\",\n",
    "        \"blockchain\": \"Binance Smart Chain\",\n",
    "        \"current_price_usd\": 200.0,\n",
    "        \"transaction_history\": [\n",
    "            {\n",
    "                \"date\": \"2024-01-10\",\n",
    "                \"prices\": {\n",
    "                    \"open\": 198.0,\n",
    "                    \"close\": 200.0,\n",
    "                    \"high\": 202.0,\n",
    "                    \"low\": 196.0\n",
    "                },\n",
    "                \"volume\": 18000\n",
    "            },\n",
    "            {\n",
    "                \"date\": \"2024-01-09\",\n",
    "                \"prices\": {\n",
    "                    \"open\": 196.0,\n",
    "                    \"close\": 198.0,\n",
    "                    \"high\": 199.0,\n",
    "                    \"low\": 195.0\n",
    "                },\n",
    "                \"volume\": 17000\n",
    "            }\n",
    "        ],\n",
    "        \"supported_chains\": [\"Binance Smart Chain\", \"Avalanche\"]\n",
    "    },\n",
    "    {\n",
    "        \"name\": \"Token C\",\n",
    "        \"symbol\": \"TKC\",\n",
    "        \"blockchain\": \"Solana\",\n",
    "        \"current_price_usd\": 300.0,\n",
    "        \"transaction_history\": [\n",
    "            {\n",
    "                \"date\": \"2024-01-10\",\n",
    "                \"prices\": {\n",
    "                    \"open\": 295.0,\n",
    "                    \"close\": 300.0,\n",
    "                    \"high\": 302.0,\n",
    "                    \"low\": 294.0\n",
    "                },\n",
    "                \"volume\": 22000\n",
    "            },\n",
    "            {\n",
    "                \"date\": \"2024-01-09\",\n",
    "                \"prices\": {\n",
    "                    \"open\": 294.0,\n",
    "                    \"close\": 295.0,\n",
    "                    \"high\": 296.0,\n",
    "                    \"low\": 293.0\n",
    "                },\n",
    "                \"volume\": 21000\n",
    "            }\n",
    "        ],\n",
    "        \"supported_chains\": [\"Solana\", \"Fantom\"]\n",
    "    }\n",
    "]\n",
    "```\n",
    "\n",
    "\n",
    "\n",
    "Q1: Read Data  \n",
    "Task: Display the current price of \"Token B\".\n",
    "\n",
    "Q2: Write Data  \n",
    "Task: Add a new token \"Token D\" with some initial data to the `crypto_tokens` list.\n",
    "\n",
    "Q3: Update Data  \n",
    "Task: Update the current price of \"Token C\" to 310.0.\n",
    "\n",
    "Q4: Delete Data  \n",
    "Task: Remove the transaction history for \"Token A\" on \"2024-01-09\".\n",
    "\n",
    "Q5: Read Nested Data  \n",
    "Task: Display the closing price of \"Token B\" on \"2024-01-10\".\n",
    "\n",
    "Q6: Update Nested Data  \n",
    "Task: Change the opening price of \"Token A\" on \"2024-01-10\" to 99.0.\n",
    "\n",
    "Q7: Add Nested Data  \n",
    "Task: Add a new transaction history entry for \"Token C\" on \"2024-01-11\".\n",
    "\n",
    "Q8: Delete an Item from a List Inside a Dictionary  \n",
    "Task: Remove \"Avalanche\" from the supported chains of \"Token B\".\n"
   ]
  },
  {
   "cell_type": "code",
   "execution_count": 43,
   "id": "cda9c713",
   "metadata": {},
   "outputs": [
    {
     "name": "stdout",
     "output_type": "stream",
     "text": [
      "200.0\n"
     ]
    }
   ],
   "source": [
    "\n",
    "crypto_tokens = [\n",
    "    {\n",
    "        \"name\": \"Token A\",\n",
    "        \"symbol\": \"TKA\",\n",
    "        \"blockchain\": \"Ethereum\",\n",
    "        \"current_price_usd\": 100.0,\n",
    "        \"transaction_history\": [\n",
    "            {\n",
    "                \"date\": \"2024-01-10\",\n",
    "                \"prices\": {\n",
    "                    \"open\": 98.0,\n",
    "                    \"close\": 100.0,\n",
    "                    \"high\": 101.0,\n",
    "                    \"low\": 97.0\n",
    "                },\n",
    "                \"volume\": 12000\n",
    "            },\n",
    "            {\n",
    "                \"date\": \"2024-01-09\",\n",
    "                \"prices\": {\n",
    "                    \"open\": 97.0,\n",
    "                    \"close\": 98.0,\n",
    "                    \"high\": 99.0,\n",
    "                    \"low\": 96.0\n",
    "                },\n",
    "                \"volume\": 15000\n",
    "            }\n",
    "        ],\n",
    "        \"supported_chains\": [\"Ethereum\", \"Polygon\"]\n",
    "    },\n",
    "    {\n",
    "        \"name\": \"Token B\",\n",
    "        \"symbol\": \"TKB\",\n",
    "        \"blockchain\": \"Binance Smart Chain\",\n",
    "        \"current_price_usd\": 200.0,\n",
    "        \"transaction_history\": [\n",
    "            {\n",
    "                \"date\": \"2024-01-10\",\n",
    "                \"prices\": {\n",
    "                    \"open\": 198.0,\n",
    "                    \"close\": 200.0,\n",
    "                    \"high\": 202.0,\n",
    "                    \"low\": 196.0\n",
    "                },\n",
    "                \"volume\": 18000\n",
    "            },\n",
    "            {\n",
    "                \"date\": \"2024-01-09\",\n",
    "                \"prices\": {\n",
    "                    \"open\": 196.0,\n",
    "                    \"close\": 198.0,\n",
    "                    \"high\": 199.0,\n",
    "                    \"low\": 195.0\n",
    "                },\n",
    "                \"volume\": 17000\n",
    "            }\n",
    "        ],\n",
    "        \"supported_chains\": [\"Binance Smart Chain\", \"Avalanche\"]\n",
    "    },\n",
    "    {\n",
    "        \"name\": \"Token C\",\n",
    "        \"symbol\": \"TKC\",\n",
    "        \"blockchain\": \"Solana\",\n",
    "        \"current_price_usd\": 300.0,\n",
    "        \"transaction_history\": [\n",
    "            {\n",
    "                \"date\": \"2024-01-10\",\n",
    "                \"prices\": {\n",
    "                    \"open\": 295.0,\n",
    "                    \"close\": 300.0,\n",
    "                    \"high\": 302.0,\n",
    "                    \"low\": 294.0\n",
    "                },\n",
    "                \"volume\": 22000\n",
    "            },\n",
    "            {\n",
    "                \"date\": \"2024-01-09\",\n",
    "                \"prices\": {\n",
    "                    \"open\": 294.0,\n",
    "                    \"close\": 295.0,\n",
    "                    \"high\": 296.0,\n",
    "                    \"low\": 293.0\n",
    "                },\n",
    "                \"volume\": 21000\n",
    "            }\n",
    "        ],\n",
    "        \"supported_chains\": [\"Solana\", \"Fantom\"]\n",
    "    }\n",
    "]\n",
    "# Q1: Read Data  -- Task: Display the current price of \"Token B\".\n",
    "print(crypto_tokens[1]['current_price_usd'])\n"
   ]
  },
  {
   "cell_type": "code",
   "execution_count": 17,
   "id": "307654a6",
   "metadata": {},
   "outputs": [
    {
     "name": "stdout",
     "output_type": "stream",
     "text": [
      "{'name': 'Token D', 'symbol': 'ELK', 'blockchain': 'Modular', 'current_price_usd': 1000.0, 'transaction_history': [{'date': '2024-02-10', 'prices': {'open': 360.0, 'close': 250.0, 'high': 102.0, 'low': 294.0}, 'volume': 15000}, {'date': '2024-02-09', 'prices': {'open': 294.0, 'close': 395.0, 'high': 496.0, 'low': 293.0}, 'volume': 16000}], 'supported_chains': ['Modular', 'Keplr']}\n"
     ]
    }
   ],
   "source": [
    "# Q2: Write Data  Task: Add a new token \"Token D\" with some initial data to the `crypto_tokens` list.\n",
    "crypto_tokens.append(\n",
    "    {\n",
    "        \"name\": \"Token D\",\n",
    "        \"symbol\": \"TIA\",\n",
    "        \"blockchain\": \"Modular\",\n",
    "        \"current_price_usd\": 1000.0,\n",
    "        \"transaction_history\": [\n",
    "            {\n",
    "                \"date\": \"2024-02-10\",\n",
    "                \"prices\": {\n",
    "                    \"open\": 980.0,\n",
    "                    \"close\": 1000.0,\n",
    "                    \"high\": 1015.0,\n",
    "                    \"low\": 970.0\n",
    "                },\n",
    "                \"volume\": 15000\n",
    "            },\n",
    "            {\n",
    "                \"date\": \"2024-02-09\",\n",
    "                \"prices\": {\n",
    "                    \"open\": 950.0,\n",
    "                    \"close\": 980.0,\n",
    "                    \"high\": 990.0,\n",
    "                    \"low\": 940.0\n",
    "                },\n",
    "                \"volume\": 16000\n",
    "            }\n",
    "        ],\n",
    "        \"supported_chains\": [\"Modular\", \"Keplr\"]\n",
    "    }\n",
    ")\n",
    "print(crypto_tokens[3])\n"
   ]
  },
  {
   "cell_type": "code",
   "execution_count": 10,
   "id": "9392b2e6",
   "metadata": {},
   "outputs": [
    {
     "name": "stdout",
     "output_type": "stream",
     "text": [
      "310.0\n"
     ]
    }
   ],
   "source": [
    "# Q3: Update Data  -- Task: Update the current price of \"Token C\" to 310.0.\n",
    "crypto_tokens [2]['current_price_usd'] = 310.0\n",
    "print(crypto_tokens [2]['current_price_usd'])"
   ]
  },
  {
   "cell_type": "code",
   "execution_count": 15,
   "id": "3d2cc6d7",
   "metadata": {},
   "outputs": [
    {
     "name": "stdout",
     "output_type": "stream",
     "text": [
      "[{'date': '2024-01-10', 'prices': {'open': 98.0, 'close': 100.0, 'high': 101.0, 'low': 97.0}, 'volume': 12000}]\n"
     ]
    }
   ],
   "source": [
    "# Q4: Delete Data  Task: Remove the transaction history for \"Token A\" on \"2024-01-09\".\n",
    "crypto_tokens[0]['transaction_history'] = [\n",
    "    tx for tx in crypto_tokens[0]['transaction_history']\n",
    "    if tx['date'] != '2024-01-09'\n",
    "]\n",
    "print(crypto_tokens[0]['transaction_history'])"
   ]
  },
  {
   "cell_type": "code",
   "execution_count": 16,
   "id": "451855ea",
   "metadata": {},
   "outputs": [
    {
     "name": "stdout",
     "output_type": "stream",
     "text": [
      "200.0\n"
     ]
    }
   ],
   "source": [
    "# Q5: Read Nested Data  -- Task: Display the closing price of \"Token B\" on \"2024-01-10\".\n",
    "print(crypto_tokens[1]['transaction_history'][0]['prices']['close'])"
   ]
  },
  {
   "cell_type": "code",
   "execution_count": 30,
   "id": "52d67ee5",
   "metadata": {},
   "outputs": [
    {
     "data": {
      "text/plain": [
       "99.0"
      ]
     },
     "execution_count": 30,
     "metadata": {},
     "output_type": "execute_result"
    }
   ],
   "source": [
    "# Q6: Update Nested Data  -- Task: Change the opening price of \"Token A\" on \"2024-01-10\" to 99.0.\n",
    "crypto_tokens.append({\n",
    "    \"date\": '2024-01-10',\n",
    "    \"prices\": {\n",
    "        \"open\": 99.0\n",
    "    }\n",
    "})\n",
    "crypto_tokens[0]['transaction_history'][0]['prices']['open']"
   ]
  },
  {
   "cell_type": "code",
   "execution_count": null,
   "id": "7ec29d3e",
   "metadata": {},
   "outputs": [],
   "source": []
  },
  {
   "cell_type": "code",
   "execution_count": 31,
   "id": "f478f481",
   "metadata": {},
   "outputs": [
    {
     "data": {
      "text/plain": [
       "[{'date': '2024-01-10',\n",
       "  'prices': {'open': 295.0, 'close': 300.0, 'high': 302.0, 'low': 294.0},\n",
       "  'volume': 22000},\n",
       " {'date': '2024-01-09',\n",
       "  'prices': {'open': 294.0, 'close': 295.0, 'high': 296.0, 'low': 293.0},\n",
       "  'volume': 21000},\n",
       " {'date': '2024-01-10',\n",
       "  'prices': {'open': 305.0, 'close': 310.0, 'high': 315.0, 'low': 300.0}}]"
      ]
     },
     "execution_count": 31,
     "metadata": {},
     "output_type": "execute_result"
    }
   ],
   "source": [
    "# Q7: Add Nested Data  -- Task: Add a new transaction history entry for \"Token C\" on \"2024-01-11\".\n",
    "crypto_tokens[2]['transaction_history'].append({\n",
    "    \"date\": \"2024-01-10\",\n",
    "    \"prices\": {\n",
    "        \"open\": 305.0,\n",
    "        \"close\": 310.0,\n",
    "        \"high\": 315.0,\n",
    "        \"low\": 300.0\n",
    "    }\n",
    "})\n",
    "crypto_tokens[2]['transaction_history']"
   ]
  },
  {
   "cell_type": "code",
   "execution_count": 44,
   "id": "a6da4f96",
   "metadata": {},
   "outputs": [
    {
     "name": "stdout",
     "output_type": "stream",
     "text": [
      "['Binance Smart Chain']\n"
     ]
    }
   ],
   "source": [
    "# Q8: Delete an Item from a List Inside a Dictionary  -- Task: Remove \"Avalanche\" from the supported chains of \"Token B\".\n",
    "crypto_tokens[1]['supported_chains'].remove(\"Avalanche\")\n",
    "print(crypto_tokens[1]['supported_chains'])"
   ]
  }
 ],
 "metadata": {
  "kernelspec": {
   "display_name": "pythonA",
   "language": "python",
   "name": "python3"
  },
  "language_info": {
   "codemirror_mode": {
    "name": "ipython",
    "version": 3
   },
   "file_extension": ".py",
   "mimetype": "text/x-python",
   "name": "python",
   "nbconvert_exporter": "python",
   "pygments_lexer": "ipython3",
   "version": "3.13.5"
  }
 },
 "nbformat": 4,
 "nbformat_minor": 5
}
