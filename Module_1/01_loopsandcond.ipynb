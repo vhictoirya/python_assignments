{
 "cells": [
  {
   "cell_type": "markdown",
   "id": "aebb9e4b",
   "metadata": {},
   "source": [
    "# ASSIGNMENTS ON LOOPS"
   ]
  },
  {
   "cell_type": "markdown",
   "id": "39153bee",
   "metadata": {},
   "source": [
    "### 1. Daily Gas Fee Average\n",
    "\n",
    "Description: Calculate the average gas fee from a list of daily Ethereum gas fees\n",
    "\n",
    "Input: List of gas fees (e.g., [30, 40, 35, 50, 45])\n",
    "\n",
    "Output: Average gas fee (e.g., 40.0)\n"
   ]
  },
  {
   "cell_type": "code",
   "execution_count": 2,
   "id": "46bfa28f",
   "metadata": {},
   "outputs": [
    {
     "name": "stdout",
     "output_type": "stream",
     "text": [
      "200\n"
     ]
    }
   ],
   "source": [
    "gas_fees = [30, 40, 35, 50, 45]\n",
    "\n",
    "total = 0\n",
    "\n",
    "for i in gas_fees:\n",
    "    total = total + i # or totat += i\n",
    "\n",
    "print(total)"
   ]
  },
  {
   "cell_type": "code",
   "execution_count": 3,
   "id": "f5ed7d95",
   "metadata": {},
   "outputs": [
    {
     "name": "stdout",
     "output_type": "stream",
     "text": [
      "40.0\n"
     ]
    }
   ],
   "source": [
    "num = len(gas_fees)\n",
    "\n",
    "avg = total/ num\n",
    "\n",
    "print(avg)"
   ]
  },
  {
   "cell_type": "markdown",
   "id": "d0a0026d",
   "metadata": {},
   "source": [
    "### 2. Highest Daily Transaction Count\n",
    "\n",
    "Description: Find the day with the highest number of transactions on a blockchain.\n",
    "\n",
    "Input: List of daily transaction counts (e.g., [1200, 1400, 1350, 1600, 1100])\n",
    "\n",
    "Output: Day with the highest transaction count"
   ]
  },
  {
   "cell_type": "code",
   "execution_count": 6,
   "id": "6fe081f8",
   "metadata": {},
   "outputs": [
    {
     "name": "stdout",
     "output_type": "stream",
     "text": [
      "Day 4\n"
     ]
    }
   ],
   "source": [
    "# Input: List of daily transaction counts\n",
    "daily_tx_counts = [1200, 1400, 1350, 1600, 1100]\n",
    "\n",
    "max_transactions = daily_tx_counts[0]\n",
    "day_with_max = 1\n",
    "\n",
    "# Loop through the list to find the day with the highest daily transaction counts\n",
    "for i in range(1, len(daily_tx_counts)):\n",
    "    if daily_tx_counts[i] > max_transactions:\n",
    "        max_transactions = daily_tx_counts[i]\n",
    "        day_with_max = i + 1  # +1 because days start from Day 1\n",
    "\n",
    "print(f'Day {day_with_max}')\n"
   ]
  },
  {
   "cell_type": "markdown",
   "id": "c903ba2c",
   "metadata": {},
   "source": [
    "### 3. Find Token Min/Max Price\n",
    "\n",
    "Description: Determine the lowest and highest price of a token over a week.\n",
    "\n",
    "Input: List of prices (e.g., [2.1, 2.5, 2.0, 2.8, 2.6])\n",
    "\n",
    "Output: Min: 2.0, Max: 2.8"
   ]
  },
  {
   "cell_type": "code",
   "execution_count": 7,
   "id": "21c17c2a",
   "metadata": {},
   "outputs": [
    {
     "name": "stdout",
     "output_type": "stream",
     "text": [
      "Min: 2.0, Max: 2.8\n"
     ]
    }
   ],
   "source": [
    "# Input: List of token prices over a week\n",
    "prices = [2.1, 2.5, 2.0, 2.8, 2.6]\n",
    "\n",
    "# Min and max with the first price\n",
    "min_price = prices[0]\n",
    "max_price = prices[0]\n",
    "\n",
    "# Loop through the list to find min and max prices\n",
    "for price in prices:\n",
    "    if price < min_price:\n",
    "        min_price = price\n",
    "    if price > max_price:\n",
    "        max_price = price\n",
    "\n",
    "# Output\n",
    "print(f\"Min: {min_price}, Max: {max_price}\")\n"
   ]
  },
  {
   "cell_type": "markdown",
   "id": "87ea676e",
   "metadata": {},
   "source": [
    "### 4. Simple Moving Average for Token Price\n",
    "\n",
    "Description: Compute the simple moving average of a token’s price for a given window.\n",
    "\n",
    "Input: Prices (e.g., [1.0, 1.2, 1.3, 1.4, 1.6]), Window size (e.g., 3)\n",
    "\n",
    "Output: List of moving averages (e.g., [1.17, 1.3, 1.43])"
   ]
  },
  {
   "cell_type": "code",
   "execution_count": 9,
   "id": "5d0932a9",
   "metadata": {},
   "outputs": [
    {
     "name": "stdout",
     "output_type": "stream",
     "text": [
      "moving avgs: [1.17, 1.3, 1.43]\n"
     ]
    }
   ],
   "source": [
    "# Input: Token prices and window size\n",
    "prices = [1.0, 1.2, 1.3, 1.4, 1.6]\n",
    "window_size = 3\n",
    "\n",
    "moving_avgs = []\n",
    "\n",
    "for i in range(len(prices) - window_size + 1):\n",
    "    window = prices[i:i + window_size]\n",
    "    average = sum(window) / window_size\n",
    "    moving_avgs.append(round(average, 2))  # Round to 2 decimal places\n",
    "\n",
    "print('moving avgs:', moving_avgs)\n"
   ]
  },
  {
   "cell_type": "markdown",
   "id": "1b346d7c",
   "metadata": {},
   "source": [
    "### 5. Count Profitable Days on DEX\n",
    "\n",
    "Description: Count the number of days a trader had a positive return on a DEX.\n",
    "\n",
    "Input: List of daily PnL (e.g., [0.03, -0.02, 0.01, 0.04, -0.01])\n",
    "\n",
    "Output: Number of profitable days (e.g., 3 days)"
   ]
  },
  {
   "cell_type": "code",
   "execution_count": 11,
   "id": "16f9c936",
   "metadata": {},
   "outputs": [
    {
     "name": "stdout",
     "output_type": "stream",
     "text": [
      "3 days\n"
     ]
    }
   ],
   "source": [
    "# Input: List of daily PnL values\n",
    "daily_pnl = [0.03, -0.02, 0.01, 0.04, -0.01]\n",
    "\n",
    "profit_days = 0\n",
    "\n",
    "# Loop through each day's PnL and count positives\n",
    "for pnl in daily_pnl:\n",
    "    if pnl > 0:\n",
    "        profit_days += 1\n",
    "\n",
    "print(f\"{profit_days} days\")\n"
   ]
  },
  {
   "cell_type": "markdown",
   "id": "10badc63",
   "metadata": {},
   "source": [
    "# ASSIGNMENTS ON CONDITIONALS"
   ]
  },
  {
   "cell_type": "markdown",
   "id": "b1cc2a7f",
   "metadata": {},
   "source": [
    "### 1. Token Price Classification\n",
    " Description: Classify a token’s price movement as “Bullish” if it increased, “Bearish” if decreased\n",
    "\n",
    " Input: Previous price (e.g., 2.0), Current price (e.g., 2.3)\n",
    " \n",
    " Output: Bullish"
   ]
  },
  {
   "cell_type": "code",
   "execution_count": 18,
   "id": "79fb55be",
   "metadata": {},
   "outputs": [
    {
     "name": "stdout",
     "output_type": "stream",
     "text": [
      "Bullish\n"
     ]
    }
   ],
   "source": [
    "p_price = 2.0\n",
    "c_price = 2.3\n",
    "\n",
    "if c_price > p_price:\n",
    "    print('Bullish')\n",
    "else: \n",
    "    print('Bearish')\n"
   ]
  },
  {
   "cell_type": "markdown",
   "id": "56e9bd1d",
   "metadata": {},
   "source": [
    "### 2. Gas Fee Alert System\n",
    " Description: Alert if Ethereum gas fee exceeds a given threshold (e.g., 100 Gwei).\n",
    " \n",
    " Input: Gas fee (e.g., 120)\n",
    " \n",
    " Output: \"High gas fee\""
   ]
  },
  {
   "cell_type": "code",
   "execution_count": 19,
   "id": "a6e81478",
   "metadata": {},
   "outputs": [
    {
     "name": "stdout",
     "output_type": "stream",
     "text": [
      "High gas fee\n"
     ]
    }
   ],
   "source": [
    "gas_fee = 120  \n",
    "threshold = 100  \n",
    "\n",
    "if gas_fee > threshold:\n",
    "    print('High gas fee')\n"
   ]
  },
  {
   "cell_type": "markdown",
   "id": "ef5e76d4",
   "metadata": {},
   "source": [
    "### 3. Detect Whale Wallet\n",
    "\n",
    "Description: Identify if a wallet is a whale based on token balance (>10,000 tokens).\n",
    "\n",
    "Input: Token balance (e.g., 15,000)\n",
    "\n",
    "Output: Whale wallet"
   ]
  },
  {
   "cell_type": "code",
   "execution_count": 20,
   "id": "ac46b86e",
   "metadata": {},
   "outputs": [
    {
     "name": "stdout",
     "output_type": "stream",
     "text": [
      "Whale wallet\n"
     ]
    }
   ],
   "source": [
    "token_balance = 15000 \n",
    "whale_threshold = 10000  \n",
    "\n",
    "if token_balance > whale_threshold:\n",
    "    print('Whale wallet')\n"
   ]
  },
  {
   "cell_type": "markdown",
   "id": "3a462415",
   "metadata": {},
   "source": [
    "### 4. Token Transfer Flag\n",
    "Description: Flag a transaction as “Suspicious” if the amount is above 1 million tokens.\n",
    " \n",
    "Input: Transfer amount (e.g., 1,200,000)\n",
    "\n",
    "Output: Suspicious"
   ]
  },
  {
   "cell_type": "code",
   "execution_count": 21,
   "id": "30abb693",
   "metadata": {},
   "outputs": [
    {
     "name": "stdout",
     "output_type": "stream",
     "text": [
      "Suspicious\n"
     ]
    }
   ],
   "source": [
    "transfer_amount = 1200000  \n",
    "suspicious_threshold = 1000000  \n",
    "\n",
    "if transfer_amount > suspicious_threshold:\n",
    "    print('Suspicious')\n"
   ]
  },
  {
   "cell_type": "markdown",
   "id": "786c35ae",
   "metadata": {},
   "source": [
    "### 5. DEX Slippage Warning\n",
    "Description: Warn users if the slippage is greater than 5%.\n",
    "\n",
    "Input: Slippage percentage (e.g., 6.5)\n",
    "\n",
    "Output: \"High slippage detected\""
   ]
  },
  {
   "cell_type": "code",
   "execution_count": 22,
   "id": "a7774ba1",
   "metadata": {},
   "outputs": [
    {
     "name": "stdout",
     "output_type": "stream",
     "text": [
      "High slippage detected\n"
     ]
    }
   ],
   "source": [
    "slippage = 6.5  \n",
    "threshold = 5.0  \n",
    "\n",
    "if slippage > threshold:\n",
    "    print('High slippage detected')\n"
   ]
  }
 ],
 "metadata": {
  "kernelspec": {
   "display_name": "pythonA",
   "language": "python",
   "name": "python3"
  },
  "language_info": {
   "codemirror_mode": {
    "name": "ipython",
    "version": 3
   },
   "file_extension": ".py",
   "mimetype": "text/x-python",
   "name": "python",
   "nbconvert_exporter": "python",
   "pygments_lexer": "ipython3",
   "version": "3.13.5"
  }
 },
 "nbformat": 4,
 "nbformat_minor": 5
}
